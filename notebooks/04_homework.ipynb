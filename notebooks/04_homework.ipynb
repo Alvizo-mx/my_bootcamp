{
 "cells": [
  {
   "cell_type": "markdown",
   "metadata": {},
   "source": [
    "## Exercise 1 \n",
    "\n",
    "Two dices are thrown once and the total score is observed. Use a simulation to find the estimated probability that the total score is even or greater than 7.  A simulation is a repetition of the same experiment multiple times to observe its behavior:\n",
    "\n",
    "- Run the experiment 1000 times (roll 2 dice 1000 times, and sum the number of both dices).\n",
    "- Keep track of the number of times that the sum was either greater than 7 or an even number.\n",
    "- Divide the number from step 2 by the number of iterations (1000)."
   ]
  },
  {
   "cell_type": "code",
   "execution_count": 94,
   "metadata": {},
   "outputs": [
    {
     "name": "stdout",
     "output_type": "stream",
     "text": [
      "0.49934\n"
     ]
    }
   ],
   "source": [
    "import random # simular lanzamiento de moneda \n",
    "\n",
    "table = 0\n",
    "for i in range(100000):\n",
    "    result = random.randint(0,1)\n",
    "    if result == 0:\n",
    "        table += 1\n",
    "print(table / 100000)\n",
    "        \n",
    "\n"
   ]
  },
  {
   "cell_type": "code",
   "execution_count": 96,
   "metadata": {},
   "outputs": [
    {
     "name": "stdout",
     "output_type": "stream",
     "text": [
      "0.246\n"
     ]
    }
   ],
   "source": [
    "# calulcar la probabilidad de sacar 2 caras en un lanzamiento de monedas \n",
    "table = 0\n",
    "coin_1 = [\"H\",'T']\n",
    "coin_2 = [\"H\",'T']\n",
    "iterations = 1000\n",
    "for i in range(iterations):\n",
    "    result_1 = random.choice(coin_1)\n",
    "    result_2 = random.choice(coin_2)\n",
    "    if result_1 in [\"H\"] and result_2 in [\"H\"]:\n",
    "        table += 1\n",
    "print(table / iterations)"
   ]
  },
  {
   "cell_type": "code",
   "execution_count": 112,
   "metadata": {},
   "outputs": [
    {
     "name": "stdout",
     "output_type": "stream",
     "text": [
      "0.465\n"
     ]
    }
   ],
   "source": [
    "table = 0\n",
    "dice_1 = [1,2,3,4,5,6]\n",
    "dice_2 = [1,2,3,4,5,6]\n",
    "iterations = 1000\n",
    "for i in range(iterations):\n",
    "    result_1 = random.choice(dice_1)\n",
    "    result_2 = random.choice(dice_2)\n",
    "    result = result_1 + result_2\n",
    "    if result_1  > 7  or result %2== 0:\n",
    "        table += 1\n",
    "print(table / iterations)"
   ]
  },
  {
   "cell_type": "code",
   "execution_count": 135,
   "metadata": {},
   "outputs": [
    {
     "name": "stdout",
     "output_type": "stream",
     "text": [
      "0.0001\n"
     ]
    }
   ],
   "source": [
    "table = 0\n",
    "box = ['B','B','B','B','B','B','B','B','B','B','R','R','R','R','R','R','R','R','R','R','R','R','R','R','R','R','R','R','R','R','V','V','V','V','V','V','V','V','V','V','V','V','V','V','V','V','V','V','V','V','V','V','V','V','V','V','V','V','V','V']\n",
    "iterations = 10000\n",
    "result= []\n",
    "for i in range(iterations):\n",
    "    pick = random.choice(box)\n",
    "    result.append(pick)\n",
    "    if result.count('B') == 3 and result.count('R') == 2:\n",
    "        table +=1\n",
    "        result  = []\n",
    "print(table/iterations)\n"
   ]
  },
  {
   "cell_type": "code",
   "execution_count": 116,
   "metadata": {},
   "outputs": [
    {
     "data": {
      "text/plain": [
       "30"
      ]
     },
     "execution_count": 116,
     "metadata": {},
     "output_type": "execute_result"
    }
   ],
   "source": [
    "table = 0\n",
    "box = ['B','B','B','B','B','B','B','B','B','B','R','R','R','R','R','R','R','R','R','R','R','R','R','R','R','R','R','R','R','R','V','V','V','V','V','V','V','V','V','V','V','V','V','V','V','V','V','V','V','V','V','V','V','V','V','V','V','V','V','V']\n",
    "iterations = 1000\n",
    "#for i in range(iterations):\n",
    "#    result_1 = random.choice(coin_1)\n",
    " #   result_2 = random.choice(coin_2)\n",
    "  #  if result_1 in [\"H\"] and result_2 in [\"H\"]:\n",
    "   #     table += 1\n",
    "#print(table / iterations)"
   ]
  },
  {
   "cell_type": "code",
   "execution_count": null,
   "metadata": {},
   "outputs": [],
   "source": [
    "table = 0\n",
    "box = ['B','B','B','B','B','B','B','B','B','B','R','R','R','R','R','R','R','R','R','R','R','R','R','R','R','R','R','R','R','R','V','V','V','V','V','V','V','V','V','V','V','V','V','V','V','V','V','V','V','V','V','V','V','V','V','V','V','V','V','V']\n",
    "iterations = 1000"
   ]
  }
 ],
 "metadata": {
  "kernelspec": {
   "display_name": ".venv",
   "language": "python",
   "name": "python3"
  },
  "language_info": {
   "codemirror_mode": {
    "name": "ipython",
    "version": 3
   },
   "file_extension": ".py",
   "mimetype": "text/x-python",
   "name": "python",
   "nbconvert_exporter": "python",
   "pygments_lexer": "ipython3",
   "version": "3.12.1"
  }
 },
 "nbformat": 4,
 "nbformat_minor": 2
}
